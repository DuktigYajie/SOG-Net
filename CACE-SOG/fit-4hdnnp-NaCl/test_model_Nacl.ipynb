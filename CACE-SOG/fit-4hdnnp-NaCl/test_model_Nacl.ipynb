{
 "cells": [
  {
   "cell_type": "code",
   "execution_count": 27,
   "metadata": {},
   "outputs": [
    {
     "name": "stdout",
     "output_type": "stream",
     "text": [
      "CUDA version: 12.1, CUDA device: 0\n"
     ]
    },
    {
     "data": {
      "text/plain": [
       "array([ 0.15400946,  0.0252136 ,  0.07934177, ...,  0.07319129,\n",
       "       -0.02893162, -0.16877043], dtype=float32)"
      ]
     },
     "execution_count": 27,
     "metadata": {},
     "output_type": "execute_result"
    }
   ],
   "source": [
    "from ase.io import read,write\n",
    "import cace\n",
    "evaluator = cace.tasks.EvaluateTask(model_path='../fit-4hdnnp-NaCl/loss_data/Nacl_model.pth',\n",
    "#model_path='/dssg/home/acct-matxzl/matxzl/Yajie/MDNN/CACE-LR-4090/cace-lr-fit-main/fit-4hdnnp-Au2-MgO-Al/loss_data/old/dl_1_loss20250327_102251_model.pth', device='cpu',\n",
    "energy_key='CACE_energy', #'ewald_potential',\n",
    "forces_key='CACE_forces',\n",
    "#other_keys='q',\n",
    ")\n",
    "\n",
    "data = read('../fit-4hdnnp-NaCl/NaCl.xyz',':')\n",
    "\n",
    "pre = evaluator(data)\n",
    "pre['energy']"
   ]
  },
  {
   "cell_type": "code",
   "execution_count": 28,
   "metadata": {},
   "outputs": [],
   "source": [
    "import numpy as np\n",
    "def get_property(atoms, info_name, atomic_energies=None):\n",
    "    if info_name == 'energy' and atomic_energies is not None:\n",
    "        # 对于每个结构，计算总能量并扣除基态能量\n",
    "        ene_results = []\n",
    "        num_results = []\n",
    "        for a in atoms:\n",
    "            energy = a.info.get(info_name, None)\n",
    "            if energy is None:\n",
    "                raise ValueError(f\"Property '{info_name}' not found in atoms info.\")\n",
    "            # 获取原子序数\n",
    "            atomic_numbers = a.get_atomic_numbers()\n",
    "            # 扣除基态能量\n",
    "            energy -= sum(atomic_energies.get(Z, 0) for Z in atomic_numbers)\n",
    "            ene_results.append(energy)\n",
    "            num_results.append(len(atomic_numbers))\n",
    "        return np.array(ene_results),np.array(num_results)"
   ]
  },
  {
   "cell_type": "code",
   "execution_count": 29,
   "metadata": {},
   "outputs": [],
   "source": [
    "atomic_energies={11: -4417.07609365649, 17: -12516.880649933015}\n",
    "ref_energy,atom_num= get_property(data, 'energy', atomic_energies=atomic_energies)"
   ]
  },
  {
   "cell_type": "code",
   "execution_count": 30,
   "metadata": {},
   "outputs": [
    {
     "data": {
      "text/plain": [
       "array([ 0.15400946,  0.0252136 ,  0.07934177, ...,  0.07319129,\n",
       "       -0.02893162, -0.16877043], dtype=float32)"
      ]
     },
     "execution_count": 30,
     "metadata": {},
     "output_type": "execute_result"
    }
   ],
   "source": [
    "pre['energy']"
   ]
  },
  {
   "cell_type": "code",
   "execution_count": 31,
   "metadata": {},
   "outputs": [
    {
     "data": {
      "text/plain": [
       "array([ 0.15517016,  0.02694292,  0.07818196, ...,  0.07356963,\n",
       "       -0.02910438, -0.16642664])"
      ]
     },
     "execution_count": 31,
     "metadata": {},
     "output_type": "execute_result"
    }
   ],
   "source": [
    "ref_energy"
   ]
  },
  {
   "cell_type": "code",
   "execution_count": 32,
   "metadata": {},
   "outputs": [
    {
     "data": {
      "text/plain": [
       "0.0001433191843173955"
      ]
     },
     "execution_count": 32,
     "metadata": {},
     "output_type": "execute_result"
    }
   ],
   "source": [
    "np.sqrt(np.mean(((ref_energy-pre['energy'])/atom_num)**2))"
   ]
  },
  {
   "cell_type": "code",
   "execution_count": 33,
   "metadata": {},
   "outputs": [],
   "source": [
    "def get_forces(atoms_list):\n",
    "    forces_list = []\n",
    "    for a in atoms_list:\n",
    "        # 检查是否有力\n",
    "        if 'forces' in a.arrays:\n",
    "            forces_list.append(a.arrays['forces'])\n",
    "        else:\n",
    "            # 如果没有，可以用None或者空数组，但这里我们选择用None表示缺失\n",
    "            forces_list.append(None)\n",
    "    return forces_list"
   ]
  },
  {
   "cell_type": "code",
   "execution_count": 34,
   "metadata": {},
   "outputs": [],
   "source": [
    "ref_forces = get_forces(data)"
   ]
  },
  {
   "cell_type": "code",
   "execution_count": 35,
   "metadata": {},
   "outputs": [],
   "source": [
    "ref_force = np.concatenate(ref_forces, axis=0)"
   ]
  },
  {
   "cell_type": "code",
   "execution_count": 36,
   "metadata": {},
   "outputs": [
    {
     "data": {
      "text/plain": [
       "0.004016742096638881"
      ]
     },
     "execution_count": 36,
     "metadata": {},
     "output_type": "execute_result"
    }
   ],
   "source": [
    "np.sqrt(np.mean((ref_force-pre['forces'])**2))"
   ]
  }
 ],
 "metadata": {
  "kernelspec": {
   "display_name": "Python 3.10.9 ('tf-gpu')",
   "language": "python",
   "name": "python3"
  },
  "language_info": {
   "codemirror_mode": {
    "name": "ipython",
    "version": 3
   },
   "file_extension": ".py",
   "mimetype": "text/x-python",
   "name": "python",
   "nbconvert_exporter": "python",
   "pygments_lexer": "ipython3",
   "version": "3.10.9"
  },
  "orig_nbformat": 4,
  "vscode": {
   "interpreter": {
    "hash": "3e129f2e38f93614f8e72e01a896f1698dfb0b851981b7ae1149a1af9fdd5006"
   }
  }
 },
 "nbformat": 4,
 "nbformat_minor": 2
}
