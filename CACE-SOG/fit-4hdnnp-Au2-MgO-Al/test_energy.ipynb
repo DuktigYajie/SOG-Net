{
 "cells": [
  {
   "cell_type": "code",
   "execution_count": 8,
   "metadata": {},
   "outputs": [
    {
     "name": "stdout",
     "output_type": "stream",
     "text": [
      "Using CPU\n"
     ]
    }
   ],
   "source": [
    "import cace\n",
    "\n",
    "evaluator = cace.tasks.EvaluateTask(model_path='../fit-4hdnnp-Au2-MgO-Al/loss_data/SOG_con_min_rmse_e20250617_182405_model.pth', device='cpu',\n",
    "energy_key='CACE_energy', #'ewald_potential',\n",
    "forces_key='CACE_forces',\n",
    "#other_keys='q',\n",
    ")\n",
    "\n",
    "from ase.io import read,write\n",
    "\n",
    "doped_xyz_dir_1 = '../fit-4hdnnp-Au2-MgO-Al/dft-optimized-struct/1-doped.xyz'\n",
    "undoped_xyz_dir_1 = '../fit-4hdnnp-Au2-MgO-Al/dft-optimized-struct/1-undoped.xyz'\n",
    "\n",
    "doped_xyz_dir_3 = '../fit-4hdnnp-Au2-MgO-Al/dft-optimized-struct/3-doped.xyz'\n",
    "undoped_xyz_dir_3 = '../fit-4hdnnp-Au2-MgO-Al/dft-optimized-struct/3-undoped.xyz'\n",
    "\n",
    "\n",
    "doped_ase_xyz_1 = read(doped_xyz_dir_1, ':')\n",
    "undoped_ase_xyz_1 = read(undoped_xyz_dir_1, ':')\n",
    "\n",
    "doped_ase_xyz_3 = read(doped_xyz_dir_3, ':')\n",
    "undoped_ase_xyz_3 = read(undoped_xyz_dir_3, ':')\n",
    "\n",
    "pred_doped_1 = evaluator(doped_ase_xyz_1)\n",
    "pred_undoped_1 = evaluator(undoped_ase_xyz_1)\n",
    "\n",
    "pred_doped_3 = evaluator(doped_ase_xyz_3)\n",
    "pred_undoped_3 = evaluator(undoped_ase_xyz_3)"
   ]
  },
  {
   "cell_type": "code",
   "execution_count": 9,
   "metadata": {},
   "outputs": [
    {
     "data": {
      "text/plain": [
       "array([-0.06703997], dtype=float32)"
      ]
     },
     "execution_count": 9,
     "metadata": {},
     "output_type": "execute_result"
    }
   ],
   "source": [
    "pred_doped_3['energy']-pred_doped_1['energy']"
   ]
  },
  {
   "cell_type": "code",
   "execution_count": 10,
   "metadata": {},
   "outputs": [
    {
     "data": {
      "text/plain": [
       "array([0.93189204], dtype=float32)"
      ]
     },
     "execution_count": 10,
     "metadata": {},
     "output_type": "execute_result"
    }
   ],
   "source": [
    "pred_undoped_3['energy']-pred_undoped_1['energy']"
   ]
  }
 ],
 "metadata": {
  "kernelspec": {
   "display_name": "Python 3.10.9 ('tf-gpu')",
   "language": "python",
   "name": "python3"
  },
  "language_info": {
   "codemirror_mode": {
    "name": "ipython",
    "version": 3
   },
   "file_extension": ".py",
   "mimetype": "text/x-python",
   "name": "python",
   "nbconvert_exporter": "python",
   "pygments_lexer": "ipython3",
   "version": "3.10.9"
  },
  "orig_nbformat": 4,
  "vscode": {
   "interpreter": {
    "hash": "3e129f2e38f93614f8e72e01a896f1698dfb0b851981b7ae1149a1af9fdd5006"
   }
  }
 },
 "nbformat": 4,
 "nbformat_minor": 2
}
